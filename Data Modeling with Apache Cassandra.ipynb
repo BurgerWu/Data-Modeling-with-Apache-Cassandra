{
 "cells": [
  {
   "cell_type": "markdown",
   "metadata": {
    "editable": true
   },
   "source": [
    "# Part I. ETL Pipeline for Pre-Processing the Files"
   ]
  },
  {
   "cell_type": "markdown",
   "metadata": {
    "editable": true
   },
   "source": [
    "#### Import Python packages "
   ]
  },
  {
   "cell_type": "code",
   "execution_count": 1,
   "metadata": {
    "editable": true
   },
   "outputs": [],
   "source": [
    "# Import Python packages \n",
    "import pandas as pd\n",
    "import cassandra\n",
    "import re\n",
    "import os\n",
    "import glob\n",
    "import numpy as np\n",
    "import json\n",
    "import csv"
   ]
  },
  {
   "cell_type": "markdown",
   "metadata": {
    "editable": true
   },
   "source": [
    "#### Creating list of filepaths to process original event csv data files"
   ]
  },
  {
   "cell_type": "code",
   "execution_count": 2,
   "metadata": {
    "editable": true
   },
   "outputs": [
    {
     "name": "stdout",
     "output_type": "stream",
     "text": [
      "/home/workspace\n",
      "['/home/workspace/event_data/2018-11-27-events.csv', '/home/workspace/event_data/2018-11-04-events.csv', '/home/workspace/event_data/2018-11-07-events.csv', '/home/workspace/event_data/2018-11-09-events.csv', '/home/workspace/event_data/2018-11-19-events.csv', '/home/workspace/event_data/2018-11-05-events.csv', '/home/workspace/event_data/2018-11-22-events.csv', '/home/workspace/event_data/2018-11-16-events.csv', '/home/workspace/event_data/2018-11-26-events.csv', '/home/workspace/event_data/2018-11-24-events.csv', '/home/workspace/event_data/2018-11-29-events.csv', '/home/workspace/event_data/2018-11-15-events.csv', '/home/workspace/event_data/2018-11-20-events.csv', '/home/workspace/event_data/2018-11-06-events.csv', '/home/workspace/event_data/2018-11-18-events.csv', '/home/workspace/event_data/2018-11-21-events.csv', '/home/workspace/event_data/2018-11-10-events.csv', '/home/workspace/event_data/2018-11-23-events.csv', '/home/workspace/event_data/2018-11-02-events.csv', '/home/workspace/event_data/2018-11-28-events.csv', '/home/workspace/event_data/2018-11-03-events.csv', '/home/workspace/event_data/2018-11-13-events.csv', '/home/workspace/event_data/2018-11-30-events.csv', '/home/workspace/event_data/2018-11-12-events.csv', '/home/workspace/event_data/2018-11-01-events.csv', '/home/workspace/event_data/2018-11-14-events.csv', '/home/workspace/event_data/2018-11-25-events.csv', '/home/workspace/event_data/2018-11-08-events.csv', '/home/workspace/event_data/2018-11-17-events.csv', '/home/workspace/event_data/2018-11-11-events.csv']\n"
     ]
    }
   ],
   "source": [
    "# Check current working directory and add filepath to data\n",
    "print(os.getcwd())\n",
    "filepath = os.getcwd() + '/event_data'\n",
    "\n",
    "# Create a for loop to create a list of files and collect each filepath\n",
    "file_path_list = []\n",
    "for root, dirs, files in os.walk(filepath): \n",
    "    files = [root + '/' + file for file in files if 'checkpoint' not in file]\n",
    "    if len(files) != 0:\n",
    "        file_path_list = files\n",
    "        \n",
    "#Legacy Code\n",
    "    # join the file path and roots with the subdirectories using glob\n",
    "#    file_path_list = glob.glob(os.path.join(root+dirs))\n",
    "        #os.path.join(root,'*'))   \n",
    "    \n",
    "#Print out valid filepaths to event data\n",
    "print(file_path_list)"
   ]
  },
  {
   "cell_type": "markdown",
   "metadata": {
    "editable": true
   },
   "source": [
    "#### Processing the files to create the data file csv that will be used for Apache Casssandra tables"
   ]
  },
  {
   "cell_type": "code",
   "execution_count": 3,
   "metadata": {
    "editable": true
   },
   "outputs": [
    {
     "name": "stdout",
     "output_type": "stream",
     "text": [
      "Writing row data into new csv file\n",
      "Finish writing row data into new csv file\n"
     ]
    }
   ],
   "source": [
    "# Initiating an empty list of rows that will be generated from each file\n",
    "full_data_rows_list = [] \n",
    "    \n",
    "#Iterate through the file path list to collect data \n",
    "for f in file_path_list:\n",
    "\n",
    "# Reading csv file \n",
    "    with open(f, 'r', encoding = 'utf8', newline='') as csvfile: \n",
    "        # Creating a csv reader object \n",
    "        csvreader = csv.reader(csvfile) \n",
    "        next(csvreader)\n",
    "        \n",
    " # Extracting each data row one by one and append it to full_data_row_list    \n",
    "        for line in csvreader:\n",
    "            full_data_rows_list.append(line) \n",
    "            \n",
    "# uncomment the code below if you would like to get total number of rows \n",
    "#print(len(full_data_rows_list))\n",
    "# uncomment the code below if you would like to check to see what the list of event data rows will look like\n",
    "#print(full_data_rows_list)\n",
    "\n",
    "# Creating event_datafile_new csv to be used to insert data into the Apache Cassandra tables\n",
    "csv.register_dialect('myDialect', quoting=csv.QUOTE_ALL, skipinitialspace=True)\n",
    "\n",
    "#Open event_datafile_new csv or create one if not exists\n",
    "with open('event_datafile_new.csv', 'w', encoding = 'utf8', newline='') as f:\n",
    "    writer = csv.writer(f, dialect='myDialect')\n",
    "    writer.writerow(['artist','firstName','gender','itemInSession','lastName','length',\\\n",
    "                'level','location','sessionId','song','userId'])\n",
    "    #Iterate through full_data_rows_list and write the row into csv\n",
    "    print('Writing row data into new csv file')\n",
    "    for row in full_data_rows_list:\n",
    "        if (row[0] == ''):\n",
    "            continue\n",
    "        writer.writerow((row[0], row[2], row[3], row[4], row[5], row[6], row[7], row[8], row[12], row[13], row[16]))\n",
    "        \n",
    "print('Finish writing row data into new csv file')"
   ]
  },
  {
   "cell_type": "code",
   "execution_count": 4,
   "metadata": {
    "editable": true
   },
   "outputs": [
    {
     "name": "stdout",
     "output_type": "stream",
     "text": [
      "6821\n"
     ]
    }
   ],
   "source": [
    "# Check the number of rows in your csv file\n",
    "with open('event_datafile_new.csv', 'r', encoding = 'utf8') as f:\n",
    "    print(sum(1 for line in f))"
   ]
  },
  {
   "cell_type": "markdown",
   "metadata": {
    "editable": true
   },
   "source": [
    "# Part II. Apache Cassandra coding\n",
    "\n",
    "Below is the column information of our event_datafile_new.csv file\n",
    "- artist \n",
    "- firstName of user\n",
    "- gender of user\n",
    "- item number in session\n",
    "- last name of user\n",
    "- length of the song\n",
    "- level (paid or free song)\n",
    "- location of the user\n",
    "- sessionId\n",
    "- song title\n",
    "- userId\n",
    "\n",
    "The image below is a screenshot of what the denormalized data should appear like in the <font color=red>**event_datafile_new.csv**</font>\n",
    "\n",
    "<img src=\"images/image_event_datafile_new.jpg\">"
   ]
  },
  {
   "cell_type": "markdown",
   "metadata": {
    "editable": true
   },
   "source": [
    "#### Creating a Cluster"
   ]
  },
  {
   "cell_type": "code",
   "execution_count": 21,
   "metadata": {
    "editable": true
   },
   "outputs": [],
   "source": [
    "#Create cluster instance\n",
    "from cassandra.cluster import Cluster\n",
    "cluster = Cluster()\n",
    "\n",
    "# Create session\n",
    "session = cluster.connect()"
   ]
  },
  {
   "cell_type": "markdown",
   "metadata": {
    "editable": true
   },
   "source": [
    "#### Create Keyspace"
   ]
  },
  {
   "cell_type": "code",
   "execution_count": 22,
   "metadata": {
    "editable": true
   },
   "outputs": [],
   "source": [
    "#Create a Keyspace \n",
    "try:\n",
    "    session.execute(\"\"\"\n",
    "    CREATE KEYSPACE IF NOT EXISTS event_data_cassandra \n",
    "    WITH REPLICATION = \n",
    "    { 'class' : 'SimpleStrategy', 'replication_factor' : 1 }\"\"\"\n",
    ")\n",
    "\n",
    "except Exception as e:\n",
    "    print(e)"
   ]
  },
  {
   "cell_type": "markdown",
   "metadata": {
    "editable": true
   },
   "source": [
    "#### Set Keyspace"
   ]
  },
  {
   "cell_type": "code",
   "execution_count": 23,
   "metadata": {
    "editable": true
   },
   "outputs": [],
   "source": [
    "#Set KEYSPACE to the keyspace specified above\n",
    "try:\n",
    "    session.set_keyspace('event_data_cassandra')\n",
    "except Exception as e:\n",
    "    print(e)"
   ]
  },
  {
   "cell_type": "markdown",
   "metadata": {
    "editable": true
   },
   "source": [
    "## In this project, we have three queries of interest:\n",
    "\n",
    "#### 1. Return the artist, song title and song's length in the music app history that was heard during  sessionId = 338, and itemInSession  = 4\n",
    "\n",
    "\n",
    "#### 2. Return name of artist, song (sorted by itemInSession) and user (first and last name) for userid = 10, sessionid = 182\n",
    "    \n",
    "\n",
    "#### 3. Return user name (first and last) in app history who listened to the song 'All Hands Against His Own'"
   ]
  },
  {
   "cell_type": "markdown",
   "metadata": {
    "editable": true
   },
   "source": [
    "### Query 1\n",
    "\n",
    "#### *Return the artist, song title and song's length in the music app history that was heard during  sessionId = 338, and itemInSession  = 4*"
   ]
  },
  {
   "cell_type": "code",
   "execution_count": 38,
   "metadata": {
    "editable": true
   },
   "outputs": [
    {
     "name": "stdout",
     "output_type": "stream",
     "text": [
      "Creating table\n",
      "Creating table successfully\n"
     ]
    }
   ],
   "source": [
    "#Query for query 1: Create tables\n",
    "query = \"CREATE TABLE IF NOT EXISTS artist_song_from_session_iteminsession\"\n",
    "query = query + \"(artist text, song text, length float, sessionId int, itemInSession int, PRIMARY KEY (sessionId, itemInSession))\"\n",
    "try:\n",
    "    print('Creating table')\n",
    "    session.execute(query)\n",
    "    print('Creating table successfully')\n",
    "except Exception as e:\n",
    "    print(e)\n"
   ]
  },
  {
   "cell_type": "code",
   "execution_count": 39,
   "metadata": {
    "editable": true
   },
   "outputs": [
    {
     "data": {
      "text/plain": [
       "OrderedDict([('sessionid',\n",
       "              <cassandra.metadata.ColumnMetadata at 0x7f340cf7fa58>),\n",
       "             ('iteminsession',\n",
       "              <cassandra.metadata.ColumnMetadata at 0x7f340cf7f9b0>),\n",
       "             ('artist', <cassandra.metadata.ColumnMetadata at 0x7f340cf7fb00>),\n",
       "             ('length', <cassandra.metadata.ColumnMetadata at 0x7f340cf7f940>),\n",
       "             ('song', <cassandra.metadata.ColumnMetadata at 0x7f340cfcf438>)])"
      ]
     },
     "execution_count": 39,
     "metadata": {},
     "output_type": "execute_result"
    }
   ],
   "source": [
    "#Check schema of table for query 1 (artist_song_in_session_item)\n",
    "cluster.metadata.keyspaces['event_data_cassandra'].tables['artist_song_from_session_iteminsession'].columns"
   ]
  },
  {
   "cell_type": "code",
   "execution_count": 40,
   "metadata": {
    "editable": true
   },
   "outputs": [
    {
     "name": "stdout",
     "output_type": "stream",
     "text": [
      "Inserting rows into table\n",
      "Finish inserting rows into table\n"
     ]
    }
   ],
   "source": [
    "# Open the event_datafile_new file\n",
    "file = 'event_datafile_new.csv'\n",
    "with open(file, encoding = 'utf8') as f:\n",
    "    csvreader = csv.reader(f)\n",
    "    next(csvreader) # skip header\n",
    "    \n",
    "    #Iterate through rows and insert into table\n",
    "    print('Inserting rows into table')\n",
    "    for line in csvreader:     \n",
    "        query = \"INSERT INTO artist_song_from_session_iteminsession (artist, song, length, sessionId, itemInSession)\"\n",
    "        query = query + \" VALUES (%s, %s, %s, %s, %s)\"\n",
    "        session.execute(query, (line[0], line[9], float(line[5]), int(line[8]), int(line[3])))\n",
    "    print('Finish inserting rows into table')"
   ]
  },
  {
   "cell_type": "code",
   "execution_count": 41,
   "metadata": {
    "editable": true,
    "scrolled": true
   },
   "outputs": [
    {
     "data": {
      "text/html": [
       "<div>\n",
       "<style scoped>\n",
       "    .dataframe tbody tr th:only-of-type {\n",
       "        vertical-align: middle;\n",
       "    }\n",
       "\n",
       "    .dataframe tbody tr th {\n",
       "        vertical-align: top;\n",
       "    }\n",
       "\n",
       "    .dataframe thead th {\n",
       "        text-align: right;\n",
       "    }\n",
       "</style>\n",
       "<table border=\"1\" class=\"dataframe\">\n",
       "  <thead>\n",
       "    <tr style=\"text-align: right;\">\n",
       "      <th></th>\n",
       "      <th>artist</th>\n",
       "      <th>song</th>\n",
       "      <th>length</th>\n",
       "    </tr>\n",
       "  </thead>\n",
       "  <tbody>\n",
       "    <tr>\n",
       "      <th>0</th>\n",
       "      <td>Faithless</td>\n",
       "      <td>Music Matters (Mark Knight Dub)</td>\n",
       "      <td>495.307312</td>\n",
       "    </tr>\n",
       "  </tbody>\n",
       "</table>\n",
       "</div>"
      ],
      "text/plain": [
       "      artist                             song      length\n",
       "0  Faithless  Music Matters (Mark Knight Dub)  495.307312"
      ]
     },
     "execution_count": 41,
     "metadata": {},
     "output_type": "execute_result"
    }
   ],
   "source": [
    "#Run SELECT query to get desired results\n",
    "query1 = \"\"\"\n",
    "SELECT artist, song, length\n",
    "FROM artist_song_from_session_iteminsession\n",
    "WHERE sessionId = 338 AND itemInSession = 4\n",
    "\"\"\"\n",
    "\n",
    "result_query1 = session.execute(query1)\n",
    "result_query1_table = pd.DataFrame(columns = ['artist', 'song', 'length'])\n",
    "\n",
    "#Transform result into pandas dataframe\n",
    "for rows in result_query1:\n",
    "    result_query1_table = result_query1_table.append({'artist': rows[0],\\\n",
    "                                                      'song': rows[1],\\\n",
    "                                                      'length': rows[2]}, ignore_index = True)\n",
    "\n",
    "result_query1_table"
   ]
  },
  {
   "cell_type": "markdown",
   "metadata": {
    "editable": true
   },
   "source": [
    "*According to our query results from query1, the song being played in session 338 and itemInSession 4 is \"Music Matters\" by Faithless. Also, the length of that song is 495.307312 seconds.*"
   ]
  },
  {
   "cell_type": "markdown",
   "metadata": {
    "editable": true
   },
   "source": [
    "### Query 2\n",
    "\n",
    "#### *Return name of artist, song (sorted by itemInSession) and user (first and last name) for userid = 10, sessionid = 182*"
   ]
  },
  {
   "cell_type": "code",
   "execution_count": 24,
   "metadata": {
    "editable": true
   },
   "outputs": [
    {
     "name": "stdout",
     "output_type": "stream",
     "text": [
      "Creating table\n",
      "Creating table successfully\n",
      "Inserting rows into table\n",
      "Finish inserting rows to the database\n"
     ]
    }
   ],
   "source": [
    "#Query for query 2: Create tables\n",
    "\n",
    "def create_table_query2(session_instance):\n",
    "    \"\"\"\n",
    "    This function creates table required for query 2 and insert data from event_datafile_new.csv into table\n",
    "    \n",
    "    Input: Cassandra session instance\n",
    "    OutputL No specific output\n",
    "    \"\"\"\n",
    "    #Create query for creating table\n",
    "    query = \"CREATE TABLE IF NOT EXISTS artist_song_user_from_userid_sessionid \"\n",
    "    query = query + \"(artist text, song text, user text, sessionId int, userId int, itemInSession int, PRIMARY KEY (userId, sessionId, itemInSession))\"\n",
    "\n",
    "    #Run create table query\n",
    "    try:\n",
    "        print(\"Creating table\")\n",
    "        session_instance.execute(query)\n",
    "        print(\"Creating table successfully\")\n",
    "    except Exception as e:\n",
    "        print(e)\n",
    "                    \n",
    "    # Open event_datafile_new.csv\n",
    "    file = 'event_datafile_new.csv'\n",
    "    print(\"Inserting rows into table\")\n",
    "    with open(file, encoding = 'utf8') as f:\n",
    "        csvreader = csv.reader(f)\n",
    "        next(csvreader) # skip header\n",
    "        #Iterate through rows to insert into table\n",
    "        for line in csvreader:\n",
    "            query = \"INSERT INTO artist_song_user_from_userid_sessionid (artist, song, user, sessionId, userId, itemInSession)\"\n",
    "            query = query + \" VALUES (%s, %s, %s, %s, %s, %s)\"\n",
    "            session_instance.execute(query, (line[0], line[9], line[1] + ' '  + line[4], int(line[8]), int(line[10]),int(line[3])))            \n",
    "    print(\"Finish inserting rows to the database\")\n",
    "    \n",
    "create_table_query2(session)    "
   ]
  },
  {
   "cell_type": "code",
   "execution_count": 13,
   "metadata": {
    "editable": true
   },
   "outputs": [
    {
     "data": {
      "text/plain": [
       "OrderedDict([('userid', <cassandra.metadata.ColumnMetadata at 0x7f34380cdf28>),\n",
       "             ('sessionid',\n",
       "              <cassandra.metadata.ColumnMetadata at 0x7f340cfda7b8>),\n",
       "             ('iteminsession',\n",
       "              <cassandra.metadata.ColumnMetadata at 0x7f340cfda588>),\n",
       "             ('artist', <cassandra.metadata.ColumnMetadata at 0x7f340cfdad30>),\n",
       "             ('song', <cassandra.metadata.ColumnMetadata at 0x7f340cfda978>),\n",
       "             ('user', <cassandra.metadata.ColumnMetadata at 0x7f340cfdab00>)])"
      ]
     },
     "execution_count": 13,
     "metadata": {},
     "output_type": "execute_result"
    }
   ],
   "source": [
    "#Check schema of table for query 2 (artist_song_user_from_userId_sessionId)\n",
    "cluster.metadata.keyspaces['event_data_cassandra'].tables['artist_song_user_from_userid_sessionid'].columns"
   ]
  },
  {
   "cell_type": "code",
   "execution_count": 37,
   "metadata": {
    "editable": true
   },
   "outputs": [
    {
     "data": {
      "text/html": [
       "<div>\n",
       "<style scoped>\n",
       "    .dataframe tbody tr th:only-of-type {\n",
       "        vertical-align: middle;\n",
       "    }\n",
       "\n",
       "    .dataframe tbody tr th {\n",
       "        vertical-align: top;\n",
       "    }\n",
       "\n",
       "    .dataframe thead th {\n",
       "        text-align: right;\n",
       "    }\n",
       "</style>\n",
       "<table border=\"1\" class=\"dataframe\">\n",
       "  <thead>\n",
       "    <tr style=\"text-align: right;\">\n",
       "      <th></th>\n",
       "      <th>artist</th>\n",
       "      <th>song</th>\n",
       "      <th>user</th>\n",
       "    </tr>\n",
       "  </thead>\n",
       "  <tbody>\n",
       "    <tr>\n",
       "      <th>0</th>\n",
       "      <td>Down To The Bone</td>\n",
       "      <td>Keep On Keepin' On</td>\n",
       "      <td>Sylvie Cruz</td>\n",
       "    </tr>\n",
       "    <tr>\n",
       "      <th>1</th>\n",
       "      <td>Three Drives</td>\n",
       "      <td>Greece 2000</td>\n",
       "      <td>Sylvie Cruz</td>\n",
       "    </tr>\n",
       "    <tr>\n",
       "      <th>2</th>\n",
       "      <td>Sebastien Tellier</td>\n",
       "      <td>Kilometer</td>\n",
       "      <td>Sylvie Cruz</td>\n",
       "    </tr>\n",
       "    <tr>\n",
       "      <th>3</th>\n",
       "      <td>Lonnie Gordon</td>\n",
       "      <td>Catch You Baby (Steve Pitron &amp; Max Sanna Radio...</td>\n",
       "      <td>Sylvie Cruz</td>\n",
       "    </tr>\n",
       "  </tbody>\n",
       "</table>\n",
       "</div>"
      ],
      "text/plain": [
       "              artist                                               song  \\\n",
       "0   Down To The Bone                                 Keep On Keepin' On   \n",
       "1       Three Drives                                        Greece 2000   \n",
       "2  Sebastien Tellier                                          Kilometer   \n",
       "3      Lonnie Gordon  Catch You Baby (Steve Pitron & Max Sanna Radio...   \n",
       "\n",
       "          user  \n",
       "0  Sylvie Cruz  \n",
       "1  Sylvie Cruz  \n",
       "2  Sylvie Cruz  \n",
       "3  Sylvie Cruz  "
      ]
     },
     "execution_count": 37,
     "metadata": {},
     "output_type": "execute_result"
    }
   ],
   "source": [
    "#create_table_query2(session)\n",
    "query2 =\"\"\"SELECT artist, song, user\n",
    "FROM artist_song_user_from_userid_sessionid\n",
    "WHERE userId = 10 AND sessionId = 182\n",
    "ORDER BY sessionId, itemInSession\n",
    "\"\"\"\n",
    "\n",
    "result_query2 = session.execute(query2)\n",
    "result_query2_table = pd.DataFrame(columns = ['artist', 'song', 'user'])\n",
    "\n",
    "#Transform result into pandas dataframe\n",
    "for rows in result_query2:\n",
    "    result_query2_table = result_query2_table.append({'artist': rows[0],\\\n",
    "                                                      'song': rows[1],\\\n",
    "                                                      'user': rows[2]}, ignore_index = True)\n",
    "\n",
    "result_query2_table"
   ]
  },
  {
   "cell_type": "markdown",
   "metadata": {
    "editable": true
   },
   "source": [
    "*According to ourr query result from query 2, the user with userId 10 is Sylvie Cruz and she listened to 4 songs in session 182. Those songs are listed in itemInSession order and are \"Keep On Keepin'On\" by Down To the Bone, \"Greece 2000\" by Three Drives, \"Kilometer\" by Sebastien Tellier and \"Catch You Baby\" by Lonnie Gordon.*"
   ]
  },
  {
   "cell_type": "markdown",
   "metadata": {
    "editable": true
   },
   "source": [
    "### Query 3\n",
    "\n",
    "#### *Return user name (first and last) in app history who listened to the song 'All Hands Against His Own'*"
   ]
  },
  {
   "cell_type": "code",
   "execution_count": 15,
   "metadata": {
    "editable": true
   },
   "outputs": [
    {
     "name": "stdout",
     "output_type": "stream",
     "text": [
      "Creating table\n",
      "Creating table successfully\n",
      "Inserting rows into table\n",
      "Finish inserting rows to the database\n"
     ]
    }
   ],
   "source": [
    "#Query for query 3: Create tables\n",
    "\n",
    "def create_table_query3(session_instance):\n",
    "    \"\"\"\n",
    "    This function creates table required for query 3 and insert data from event_datafile_new.csv into table\n",
    "    \n",
    "    Input: Cassandra session instance\n",
    "    OutputL No specific output\n",
    "    \"\"\"\n",
    "    #Create query for creating table\n",
    "    query = \"CREATE TABLE IF NOT EXISTS user_from_song \"\n",
    "    query = query + \"(user text, song text, PRIMARY KEY (song, user))\"\n",
    "    \n",
    "    #Run create table query\n",
    "    try:\n",
    "        print(\"Creating table\")\n",
    "        session_instance.execute(query)\n",
    "        print(\"Creating table successfully\")\n",
    "    except Exception as e:\n",
    "        print(e)\n",
    "                    \n",
    "    # Open event_datafile_new.csv\n",
    "    file = 'event_datafile_new.csv'\n",
    "    print(\"Inserting rows into table\")\n",
    "    with open(file, encoding = 'utf8') as f:\n",
    "        csvreader = csv.reader(f)\n",
    "        next(csvreader) # skip header\n",
    "        #Iterate through rows to insert into table\n",
    "        for line in csvreader:     \n",
    "            query = \"INSERT INTO user_from_song (user, song)\"\n",
    "            query = query + \" VALUES (%s, %s)\"\n",
    "            session_instance.execute(query, (line[1] + ' '  + line[4], line[9]))            \n",
    "    print(\"Finish inserting rows to the database\")\n",
    "    \n",
    "create_table_query3(session)    "
   ]
  },
  {
   "cell_type": "code",
   "execution_count": 16,
   "metadata": {
    "editable": true
   },
   "outputs": [
    {
     "data": {
      "text/plain": [
       "OrderedDict([('song', <cassandra.metadata.ColumnMetadata at 0x7f340cfcbc18>),\n",
       "             ('user', <cassandra.metadata.ColumnMetadata at 0x7f340cfcba20>)])"
      ]
     },
     "execution_count": 16,
     "metadata": {},
     "output_type": "execute_result"
    }
   ],
   "source": [
    "#Check schema of table for query 1 (artist_song_in_session_item)\n",
    "cluster.metadata.keyspaces['event_data_cassandra'].tables['user_from_song'].columns"
   ]
  },
  {
   "cell_type": "code",
   "execution_count": 17,
   "metadata": {
    "editable": true
   },
   "outputs": [
    {
     "data": {
      "text/html": [
       "<div>\n",
       "<style scoped>\n",
       "    .dataframe tbody tr th:only-of-type {\n",
       "        vertical-align: middle;\n",
       "    }\n",
       "\n",
       "    .dataframe tbody tr th {\n",
       "        vertical-align: top;\n",
       "    }\n",
       "\n",
       "    .dataframe thead th {\n",
       "        text-align: right;\n",
       "    }\n",
       "</style>\n",
       "<table border=\"1\" class=\"dataframe\">\n",
       "  <thead>\n",
       "    <tr style=\"text-align: right;\">\n",
       "      <th></th>\n",
       "      <th>user</th>\n",
       "      <th>song</th>\n",
       "    </tr>\n",
       "  </thead>\n",
       "  <tbody>\n",
       "    <tr>\n",
       "      <th>0</th>\n",
       "      <td>Jacqueline Lynch</td>\n",
       "      <td>All Hands Against His Own</td>\n",
       "    </tr>\n",
       "    <tr>\n",
       "      <th>1</th>\n",
       "      <td>Sara Johnson</td>\n",
       "      <td>All Hands Against His Own</td>\n",
       "    </tr>\n",
       "    <tr>\n",
       "      <th>2</th>\n",
       "      <td>Tegan Levine</td>\n",
       "      <td>All Hands Against His Own</td>\n",
       "    </tr>\n",
       "  </tbody>\n",
       "</table>\n",
       "</div>"
      ],
      "text/plain": [
       "               user                       song\n",
       "0  Jacqueline Lynch  All Hands Against His Own\n",
       "1      Sara Johnson  All Hands Against His Own\n",
       "2      Tegan Levine  All Hands Against His Own"
      ]
     },
     "execution_count": 17,
     "metadata": {},
     "output_type": "execute_result"
    }
   ],
   "source": [
    "#Run SELECT query to get desired results\n",
    "query3 = \"\"\"\n",
    "SELECT user, song\n",
    "FROM user_from_song\n",
    "WHERE song = 'All Hands Against His Own'\n",
    "\"\"\"\n",
    "\n",
    "result_query3 = session.execute(query3)\n",
    "result_query3_table = pd.DataFrame(columns = ['user', 'song'])\n",
    "\n",
    "#Transform result into pandas dataframe\n",
    "for rows in result_query3:\n",
    "    result_query3_table = result_query3_table.append({'user': rows[0],\\\n",
    "                                                      'song': rows[1]}, ignore_index = True)\n",
    "\n",
    "result_query3_table"
   ]
  },
  {
   "cell_type": "markdown",
   "metadata": {
    "editable": true
   },
   "source": [
    "*According the query result, there are 3 users ever listened to the song \"All Hands Against His Own\" in our log files. Those are Jacqueline Lynch, Sara Johnson and Tegan Levine.*"
   ]
  },
  {
   "cell_type": "markdown",
   "metadata": {
    "editable": true
   },
   "source": [
    "### Drop the tables before closing out the sessions"
   ]
  },
  {
   "cell_type": "code",
   "execution_count": 18,
   "metadata": {
    "editable": true
   },
   "outputs": [
    {
     "data": {
      "text/plain": [
       "<cassandra.cluster.ResultSet at 0x7f340cf9def0>"
      ]
     },
     "execution_count": 18,
     "metadata": {},
     "output_type": "execute_result"
    }
   ],
   "source": [
    "## Drop the table before closing out the sessions\n",
    "session.execute(\"\"\"DROP TABLE IF EXISTS artist_song_in_session_item\"\"\")\n",
    "session.execute(\"\"\"DROP TABLE IF EXISTS artist_song_user_from_userid_sessionid\"\"\")\n",
    "session.execute(\"\"\"DROP TABLE IF EXISTS user_from_song\"\"\")"
   ]
  },
  {
   "cell_type": "markdown",
   "metadata": {
    "editable": true
   },
   "source": [
    "### Close the session and cluster connection¶"
   ]
  },
  {
   "cell_type": "code",
   "execution_count": 19,
   "metadata": {
    "editable": true
   },
   "outputs": [],
   "source": [
    "session.shutdown() \n",
    "cluster.shutdown()"
   ]
  },
  {
   "cell_type": "code",
   "execution_count": null,
   "metadata": {
    "editable": true
   },
   "outputs": [],
   "source": []
  }
 ],
 "metadata": {
  "kernelspec": {
   "display_name": "Python 3",
   "language": "python",
   "name": "python3"
  },
  "language_info": {
   "codemirror_mode": {
    "name": "ipython",
    "version": 3
   },
   "file_extension": ".py",
   "mimetype": "text/x-python",
   "name": "python",
   "nbconvert_exporter": "python",
   "pygments_lexer": "ipython3",
   "version": "3.6.3"
  }
 },
 "nbformat": 4,
 "nbformat_minor": 4
}
